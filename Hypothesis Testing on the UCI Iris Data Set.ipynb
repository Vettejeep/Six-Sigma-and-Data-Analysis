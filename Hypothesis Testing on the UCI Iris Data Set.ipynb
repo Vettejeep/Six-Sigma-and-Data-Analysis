{
 "cells": [
  {
   "cell_type": "markdown",
   "metadata": {},
   "source": [
    "# Hypothesis Testing: UCI Iris Data Set\n",
    "### Kevin Maher\n",
    "### <span style=\"color:blue\">Vettejeep365@gmail.com</span>"
   ]
  },
  {
   "cell_type": "markdown",
   "metadata": {},
   "source": [
    "Imports needed for the script.  Uses Python 2.7.13, pandas 0.19.2, scipy 0.18.1, matplotlib 2.0.0, statsmodels 0.6.1."
   ]
  },
  {
   "cell_type": "code",
   "execution_count": 6,
   "metadata": {
    "collapsed": true
   },
   "outputs": [],
   "source": [
    "%matplotlib inline\n",
    "\n",
    "import pandas as pd\n",
    "from scipy import stats\n",
    "from statsmodels.stats.multicomp import MultiComparison\n",
    "import statsmodels.sandbox.stats.multicomp as mc\n",
    "import statsmodels.stats.weightstats as ws\n",
    "import matplotlib.pyplot as plt"
   ]
  },
  {
   "cell_type": "markdown",
   "metadata": {},
   "source": [
    "Import the data, please see the citation below."
   ]
  },
  {
   "cell_type": "code",
   "execution_count": 7,
   "metadata": {
    "collapsed": false
   },
   "outputs": [
    {
     "name": "stdout",
     "output_type": "stream",
     "text": [
      "   sepal_length  sepal_width  petal_length  petal_width        class\n",
      "0           5.1          3.5           1.4          0.2  Iris-setosa\n",
      "1           4.9          3.0           1.4          0.2  Iris-setosa\n",
      "2           4.7          3.2           1.3          0.2  Iris-setosa\n",
      "3           4.6          3.1           1.5          0.2  Iris-setosa\n",
      "4           5.0          3.6           1.4          0.2  Iris-setosa\n"
     ]
    }
   ],
   "source": [
    "df = pd.read_csv('iris.data.csv')\n",
    "print df.head()"
   ]
  },
  {
   "cell_type": "markdown",
   "metadata": {},
   "source": [
    "Select one field, 'sepal width' for analysis.  Is there a significant different in sepal width for the three species of Iris plants in the data?  This is what we will answer below."
   ]
  },
  {
   "cell_type": "code",
   "execution_count": 8,
   "metadata": {
    "collapsed": true
   },
   "outputs": [],
   "source": [
    "field = 'sepal_width'\n",
    "setosa = df[field].loc[df['class'] == 'Iris-setosa']\n",
    "versicolor = df[field].loc[df['class'] == 'Iris-versicolor']\n",
    "virginica = df[field].loc[df['class'] == 'Iris-virginica']"
   ]
  },
  {
   "cell_type": "markdown",
   "metadata": {},
   "source": [
    "Print summary statistics.  Gives mean and standard deviation amongst others."
   ]
  },
  {
   "cell_type": "code",
   "execution_count": 9,
   "metadata": {
    "collapsed": false
   },
   "outputs": [
    {
     "name": "stdout",
     "output_type": "stream",
     "text": [
      "Setosa summary statistics:\n",
      "count    50.000000\n",
      "mean      3.418000\n",
      "std       0.381024\n",
      "min       2.300000\n",
      "25%       3.125000\n",
      "50%       3.400000\n",
      "75%       3.675000\n",
      "max       4.400000\n",
      "Name: sepal_width, dtype: float64\n",
      "\n",
      "Versicolor summary statistics:\n",
      "count    50.000000\n",
      "mean      2.770000\n",
      "std       0.313798\n",
      "min       2.000000\n",
      "25%       2.525000\n",
      "50%       2.800000\n",
      "75%       3.000000\n",
      "max       3.400000\n",
      "Name: sepal_width, dtype: float64\n",
      "\n",
      "Virginica summary statistics:\n",
      "count    50.000000\n",
      "mean      2.974000\n",
      "std       0.322497\n",
      "min       2.200000\n",
      "25%       2.800000\n",
      "50%       3.000000\n",
      "75%       3.175000\n",
      "max       3.800000\n",
      "Name: sepal_width, dtype: float64\n"
     ]
    }
   ],
   "source": [
    "print 'Setosa summary statistics:'\n",
    "print setosa.describe()\n",
    "print '\\nVersicolor summary statistics:'\n",
    "print versicolor.describe()\n",
    "print '\\nVirginica summary statistics:'\n",
    "print virginica.describe()"
   ]
  },
  {
   "cell_type": "markdown",
   "metadata": {},
   "source": [
    "Is the data normally distributed?  Python uses D'Agostino and Pearson's test.  All of the p-values are well above the usual threshold of 0.05, so the data may be considered to be normally distributed."
   ]
  },
  {
   "cell_type": "code",
   "execution_count": 10,
   "metadata": {
    "collapsed": false
   },
   "outputs": [
    {
     "name": "stdout",
     "output_type": "stream",
     "text": [
      "Normality test for Setosa, p-value: 0.3889\n",
      "Normality test for Versicolor, p-value: 0.4841\n",
      "Normality test for Virginica, p-value: 0.2771\n"
     ]
    }
   ],
   "source": [
    "s, p = stats.normaltest(setosa)\n",
    "print 'Normality test for Setosa, p-value: %.4f' % p\n",
    "\n",
    "s, p = stats.normaltest(versicolor)\n",
    "print 'Normality test for Versicolor, p-value: %.4f' % p\n",
    "\n",
    "s, p = stats.normaltest(virginica)\n",
    "print 'Normality test for Virginica, p-value: %.4f' % p"
   ]
  },
  {
   "cell_type": "markdown",
   "metadata": {},
   "source": [
    "Check for equal variances.  We will use Bartlett's test since the data passed a normality test above.  Levene's test could be used if the data was not normally distributed.  The p-value is above 0.33, far above 0.05, so the data can be considered to have equal variances.  The test automatically corrects for having three categories."
   ]
  },
  {
   "cell_type": "code",
   "execution_count": 11,
   "metadata": {
    "collapsed": false
   },
   "outputs": [
    {
     "name": "stdout",
     "output_type": "stream",
     "text": [
      "Bartlett test for equal variances, p-value: 0.3302\n"
     ]
    }
   ],
   "source": [
    "W, p = stats.bartlett(setosa, versicolor, virginica)\n",
    "print 'Bartlett test for equal variances, p-value: %.4f' % p"
   ]
  },
  {
   "cell_type": "markdown",
   "metadata": {},
   "source": [
    "Let's look at a box plot of the data.  The notch is the confidence interval around the median."
   ]
  },
  {
   "cell_type": "code",
   "execution_count": 12,
   "metadata": {
    "collapsed": false
   },
   "outputs": [
    {
     "data": {
      "image/png": "[encoded data removed]",
      "text/plain": [
       "<matplotlib.figure.Figure at 0xc114198>"
      ]
     },
     "metadata": {},
     "output_type": "display_data"
    }
   ],
   "source": [
    "colors = ('#377eb8', '#ff7f00', '#4daf4a')\n",
    "box_plot_data = [setosa, versicolor, virginica]\n",
    "\n",
    "# box plots - the notch is the confidence interval around the median\n",
    "bplot = plt.boxplot(box_plot_data,\n",
    "                    notch=True,  # notch shape\n",
    "                    vert=True,  # vertical box alignment\n",
    "                    patch_artist=True,  # fill with color\n",
    "                    labels=['Setosa', 'Versicolor', 'Virginica'])  # will be used to label x-ticks\n",
    "for patch, color in zip(bplot['boxes'], colors):\n",
    "        patch.set_facecolor(color)\n",
    "        patch._alpha = 0.5\n",
    "for line in bplot['medians']:\n",
    "    line._color = 'k'\n",
    "\n",
    "plt.xlabel(\"Iris Species\")\n",
    "plt.ylabel(\"Feature Length\")\n",
    "plt.title(\"Iris Species vs. Feature Length\")\n",
    "plt.show()"
   ]
  },
  {
   "cell_type": "markdown",
   "metadata": {},
   "source": [
    "Since the data can be considered to be normally distributed and to have equal variances, we can perform a one-way ANOVA to determine if there is a significant difference in the mean value for sepal width between the Iris species.  The p-value of zero strongly indicates that at least one species has a significantly different sepal width."
   ]
  },
  {
   "cell_type": "code",
   "execution_count": 13,
   "metadata": {
    "collapsed": false
   },
   "outputs": [
    {
     "name": "stdout",
     "output_type": "stream",
     "text": [
      "P-value for ANOVA: 0.0000\n"
     ]
    }
   ],
   "source": [
    "F, p = stats.f_oneway(setosa, versicolor, virginica)\n",
    "print 'P-value for ANOVA: %.4f' % p"
   ]
  },
  {
   "cell_type": "markdown",
   "metadata": {},
   "source": [
    "Which species pairs are significantly different?  The Tukey post-hoc test can help us to determine this.  The Tukey test rejects the null hypothesis for all three groupings.  Hence, we can say that sepal width is significantly different for all three pairs of the three species."
   ]
  },
  {
   "cell_type": "code",
   "execution_count": 14,
   "metadata": {
    "collapsed": false
   },
   "outputs": [
    {
     "name": "stdout",
     "output_type": "stream",
     "text": [
      "Tukey HSD Results\n",
      "       Multiple Comparison of Means - Tukey HSD,FWER=0.05      \n",
      "===============================================================\n",
      "     group1          group2     meandiff  lower   upper  reject\n",
      "---------------------------------------------------------------\n",
      "  Iris-setosa   Iris-versicolor  -0.648  -0.8092 -0.4868  True \n",
      "  Iris-setosa    Iris-virginica  -0.444  -0.6052 -0.2828  True \n",
      "Iris-versicolor  Iris-virginica  0.204    0.0428  0.3652  True \n",
      "---------------------------------------------------------------\n",
      "['Iris-setosa' 'Iris-versicolor' 'Iris-virginica']\n"
     ]
    }
   ],
   "source": [
    "mc_tukey = MultiComparison(df[field], df['class'])\n",
    "result = mc_tukey.tukeyhsd()\n",
    "\n",
    "print 'Tukey HSD Results'\n",
    "print(result)\n",
    "print(mc_tukey.groupsunique)"
   ]
  },
  {
   "cell_type": "markdown",
   "metadata": {},
   "source": [
    "We can also do this with multiple z-tests by applying a correction to the p-values for multiple tests.  The correction makes up for the loss of statistical power caused by performing multiple tests.  Again, all three pairs can be judged to be significantly different because the corrected p-values are well below 0.05.  Z-tests are preferred over t-tests here because of the large sample size (50 which is over the recomended cutoff of 30 for a t-test)."
   ]
  },
  {
   "cell_type": "code",
   "execution_count": 15,
   "metadata": {
    "collapsed": false
   },
   "outputs": [
    {
     "name": "stdout",
     "output_type": "stream",
     "text": [
      "\n",
      "Corrected p-values for doing multiple z-tests:\n",
      "Setosa-Versicolor; Setosa-Virginica; Versicolor-Virginica\n",
      "[  0.00000000e+00   6.37452313e-10   1.34705938e-03]\n"
     ]
    }
   ],
   "source": [
    "tstat, p_set_ver = ws.ztest(setosa, versicolor)\n",
    "tstat, p_set_vir = ws.ztest(setosa, virginica)\n",
    "tstat, p_ver_vir = ws.ztest(versicolor, virginica)\n",
    "rej, pvc, aS, aB = mc.multipletests((p_set_ver, p_set_vir, p_ver_vir))\n",
    "print '\\nCorrected p-values for doing multiple z-tests:'\n",
    "print 'Setosa-Versicolor; Setosa-Virginica; Versicolor-Virginica'\n",
    "print pvc"
   ]
  },
  {
   "cell_type": "markdown",
   "metadata": {},
   "source": [
    "We can also demonstrate some more plotting.  First, a normality plot for the sepal width of the Iris Setosa species.  Interestingly, the data is qualtized by the resolution of the original measurement, but still passed statistical tests for normality above."
   ]
  },
  {
   "cell_type": "code",
   "execution_count": 16,
   "metadata": {
    "collapsed": false
   },
   "outputs": [
    {
     "data": {
      "image/png": "[encoded data removed]",
      "text/plain": [
       "<matplotlib.figure.Figure at 0xc0fc198>"
      ]
     },
     "metadata": {},
     "output_type": "display_data"
    }
   ],
   "source": [
    "fig = plt.figure()\n",
    "ax = fig.add_subplot(111)\n",
    "stats.probplot(setosa, plot=ax)\n",
    "ax.set_title(\"Setosa Sepal Width\")\n",
    "plt.show()"
   ]
  },
  {
   "cell_type": "markdown",
   "metadata": {},
   "source": [
    "We can also make a CDF (cumulative distribution function) plot for all three Iris species.  Python uses a hollow histogram for this type of plot, not perhaps as neat as a plot from Minitab or a similar program, but it still works."
   ]
  },
  {
   "cell_type": "code",
   "execution_count": 17,
   "metadata": {
    "collapsed": false
   },
   "outputs": [
    {
     "data": {
      "image/png": "[encoded data removed]",
      "text/plain": [
       "<matplotlib.figure.Figure at 0xc586c18>"
      ]
     },
     "metadata": {},
     "output_type": "display_data"
    }
   ],
   "source": [
    "figure = plt.figure()\n",
    "plt.hist(setosa, len(setosa), normed=1, histtype='step', cumulative=True, color=colors[0],\n",
    "         label='Setosa Sepal Width')\n",
    "plt.hist(versicolor, len(versicolor), normed=1, histtype='step', cumulative=True, color=colors[1],\n",
    "         label='Versicolor Sepal Width')\n",
    "plt.hist(virginica, len(virginica), normed=1, histtype='step', cumulative=True, color=colors[2],\n",
    "         label='Virginica Sepal Width')\n",
    "plt.ylim((0, 1))\n",
    "plt.legend(loc=4)\n",
    "plt.title('CDF of Iris Sepal Width')\n",
    "plt.show()"
   ]
  },
  {
   "cell_type": "markdown",
   "metadata": {},
   "source": [
    "Citation:\n",
    "Iris Data Set (1998). UCI Machine Learning Repository.  Retrieved from: "
   ]
  },
  {
   "cell_type": "markdown",
   "metadata": {},
   "source": [
    "https://archive.ics.uci.edu/ml/datasets/iris. "
   ]
  }
 ],
 "metadata": {
  "kernelspec": {
   "display_name": "Python 2",
   "language": "python",
   "name": "python2"
  },
  "language_info": {
   "codemirror_mode": {
    "name": "ipython",
    "version": 2
   },
   "file_extension": ".py",
   "mimetype": "text/x-python",
   "name": "python",
   "nbconvert_exporter": "python",
   "pygments_lexer": "ipython2",
   "version": "2.7.13"
  }
 },
 "nbformat": 4,
 "nbformat_minor": 2
}
